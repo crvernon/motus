{
 "cells": [
  {
   "cell_type": "code",
   "execution_count": 1,
   "id": "1959fb14-a171-42b5-80c2-c762aea022e5",
   "metadata": {},
   "outputs": [],
   "source": [
    "import pandas as pd\n",
    "\n",
    "import motus\n",
    "from motus import Model\n"
   ]
  },
  {
   "cell_type": "code",
   "execution_count": 2,
   "id": "cf5a21c0-0386-4ed2-9757-eae1536fb3a6",
   "metadata": {},
   "outputs": [],
   "source": [
    "fake_csv = \"/Users/d3y010/Desktop/fake.csv\"\n",
    "pd.DataFrame({\"county_FIPS\": [1, 2, 3],\n",
    "              \"pop_1977\": [4, 5, 7]}).to_csv(fake_csv, index=False)\n",
    "\n",
    "# dictionary of inputs needed construct the graph\n",
    "input_dict = {\"target_year\": 1977,\n",
    "              \"population\": pd.Series({\"population\": [1, 2, 3]}),\n",
    "              \"county_population_by_year_file\": fake_csv}\n",
    "\n",
    "output_list = [\"electricity_demand_by_year\", \"yearly_county_population_historic\"]\n",
    "\n"
   ]
  },
  {
   "cell_type": "code",
   "execution_count": 3,
   "id": "8b906f38-4dd4-4ae6-9331-c977cff9c57e",
   "metadata": {},
   "outputs": [],
   "source": [
    "\n",
    "# instantiate the model class\n",
    "model = Model(inputs=input_dict, \n",
    "              outputs=output_list)\n"
   ]
  },
  {
   "cell_type": "code",
   "execution_count": 4,
   "id": "8be6b0e3-1c15-4416-8659-4f052880618b",
   "metadata": {},
   "outputs": [
    {
     "data": {
      "text/plain": [
       "[Variable(name='balancing_authority_population_yearly', type=<class 'pandas.core.series.Series'>, tags={'module': 'motus.components'}),\n",
       " Variable(name='electricity_demand_by_year', type=<class 'pandas.core.series.Series'>, tags={'experiment': 'b', 'subexperiment': 'n1', 'module': 'motus.components'}),\n",
       " Variable(name='my_data', type=<class 'dict'>, tags={'module': 'motus.components'}),\n",
       " Variable(name='x_train', type=<class 'numpy.ndarray'>, tags={'module': 'motus.components'}),\n",
       " Variable(name='x_test', type=<class 'numpy.ndarray'>, tags={'module': 'motus.components'}),\n",
       " Variable(name='wrf_to_mean_balancing_authority_historical', type=<class 'pandas.core.series.Series'>, tags={'module': 'motus.components'}),\n",
       " Variable(name='yearly_county_population_fields_expected', type=typing.List[str], tags={'module': 'motus.components'}),\n",
       " Variable(name='yearly_county_population_fields_rename', type=<class 'dict'>, tags={'module': 'motus.components'}),\n",
       " Variable(name='yearly_county_population_historic', type=<class 'pandas.core.series.Series'>, tags={'module': 'motus.components'}),\n",
       " Variable(name='target_year', type=<class 'int'>, tags={}),\n",
       " Variable(name='population', type=<class 'pandas.core.series.Series'>, tags={}),\n",
       " Variable(name='max_year', type=<class 'int'>, tags={}),\n",
       " Variable(name='yearly_county_population', type=<class 'pandas.core.series.Series'>, tags={}),\n",
       " Variable(name='population_field_name', type=<class 'str'>, tags={}),\n",
       " Variable(name='county_population_by_year_file', type=<class 'str'>, tags={}),\n",
       " Variable(name='header', type=<class 'int'>, tags={}),\n",
       " Variable(name='sort_field_name', type=<class 'str'>, tags={})]"
      ]
     },
     "execution_count": 4,
     "metadata": {},
     "output_type": "execute_result"
    }
   ],
   "source": [
    "\n",
    "model.list_parameters()\n"
   ]
  },
  {
   "cell_type": "code",
   "execution_count": 7,
   "id": "fbcc2763-27d8-4156-8d36-23c545b487ca",
   "metadata": {},
   "outputs": [],
   "source": [
    "\n",
    "model.graph()\n"
   ]
  },
  {
   "cell_type": "code",
   "execution_count": 6,
   "id": "6d4ac344-836d-4bb5-94a5-39c7526ffe71",
   "metadata": {},
   "outputs": [
    {
     "data": {
      "text/html": [
       "<div>\n",
       "<style scoped>\n",
       "    .dataframe tbody tr th:only-of-type {\n",
       "        vertical-align: middle;\n",
       "    }\n",
       "\n",
       "    .dataframe tbody tr th {\n",
       "        vertical-align: top;\n",
       "    }\n",
       "\n",
       "    .dataframe thead th {\n",
       "        text-align: right;\n",
       "    }\n",
       "</style>\n",
       "<table border=\"1\" class=\"dataframe\">\n",
       "  <thead>\n",
       "    <tr style=\"text-align: right;\">\n",
       "      <th></th>\n",
       "      <th>electricity_demand_by_year</th>\n",
       "      <th>yearly_county_population_historic</th>\n",
       "    </tr>\n",
       "  </thead>\n",
       "  <tbody>\n",
       "    <tr>\n",
       "      <th>0</th>\n",
       "      <td>8</td>\n",
       "      <td>4</td>\n",
       "    </tr>\n",
       "    <tr>\n",
       "      <th>1</th>\n",
       "      <td>10</td>\n",
       "      <td>5</td>\n",
       "    </tr>\n",
       "    <tr>\n",
       "      <th>2</th>\n",
       "      <td>14</td>\n",
       "      <td>7</td>\n",
       "    </tr>\n",
       "  </tbody>\n",
       "</table>\n",
       "</div>"
      ],
      "text/plain": [
       "   electricity_demand_by_year  yearly_county_population_historic\n",
       "0                           8                                  4\n",
       "1                          10                                  5\n",
       "2                          14                                  7"
      ]
     },
     "execution_count": 6,
     "metadata": {},
     "output_type": "execute_result"
    }
   ],
   "source": [
    "\n",
    "model.generate()\n"
   ]
  },
  {
   "cell_type": "code",
   "execution_count": null,
   "id": "1fbcff2a-a346-490b-b49a-17e7b8ef7712",
   "metadata": {},
   "outputs": [],
   "source": []
  }
 ],
 "metadata": {
  "kernelspec": {
   "display_name": "py3.9.4_motus",
   "language": "python",
   "name": "py3.9.4_motus"
  },
  "language_info": {
   "codemirror_mode": {
    "name": "ipython",
    "version": 3
   },
   "file_extension": ".py",
   "mimetype": "text/x-python",
   "name": "python",
   "nbconvert_exporter": "python",
   "pygments_lexer": "ipython3",
   "version": "3.9.4"
  }
 },
 "nbformat": 4,
 "nbformat_minor": 5
}
